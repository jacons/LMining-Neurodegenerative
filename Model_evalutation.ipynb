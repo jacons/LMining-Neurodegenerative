{
 "cells": [
  {
   "cell_type": "code",
   "execution_count": 1,
   "metadata": {
    "collapsed": true,
    "ExecuteTime": {
     "end_time": "2023-05-12T15:11:58.337029700Z",
     "start_time": "2023-05-12T15:11:55.879545600Z"
    }
   },
   "outputs": [
    {
     "name": "stderr",
     "output_type": "stream",
     "text": [
      "[nltk_data] Downloading package punkt to\n",
      "[nltk_data]     C:\\Users\\Andrea\\AppData\\Roaming\\nltk_data...\n",
      "[nltk_data]   Package punkt is already up-to-date!\n",
      "[nltk_data] Downloading package stopwords to\n",
      "[nltk_data]     C:\\Users\\Andrea\\AppData\\Roaming\\nltk_data...\n",
      "[nltk_data]   Unzipping corpora\\stopwords.zip.\n"
     ]
    }
   ],
   "source": [
    "from Utils import normalize_meshId,preprocess_text\n",
    "from pandas import read_csv\n",
    "from Data_retrieval import load_dataset\n",
    "from Evalutation import graphType, gridsearch, build_graph_from_config, plot_hist\n",
    "\n",
    "from itertools import product"
   ]
  },
  {
   "cell_type": "code",
   "execution_count": 2,
   "outputs": [],
   "source": [
    "df_texts, df_entities = load_dataset()\n",
    "\n",
    "df_entities = df_entities[~df_entities['prob'].isna()]\n",
    "df_entities = df_entities[df_entities['prob'] > 0.8]\n",
    "df_entities = df_entities[['id', 'pmid', 'mention', 'obj', 'span_begin', 'span_end']]"
   ],
   "metadata": {
    "collapsed": false,
    "ExecuteTime": {
     "end_time": "2023-05-12T15:12:00.274270900Z",
     "start_time": "2023-05-12T15:11:58.337029700Z"
    }
   }
  },
  {
   "cell_type": "markdown",
   "source": [
    "## Test set creation\n",
    "\n",
    "To test the knowledge graph is used the SCMFDD dataset, there are three kinds of files: diseases, drugs and diseases-drugs associations.\n",
    "\n",
    "The dataframe `diseases-drug` associations contains:\n",
    "- drug_id: id of drug\n",
    "- drug_name: plain name of drug\n",
    "- disease_id: id of disease\n",
    "- disease_name: plain name of disease"
   ],
   "metadata": {
    "collapsed": false
   }
  },
  {
   "cell_type": "code",
   "execution_count": 12,
   "outputs": [],
   "source": [
    "SCMFF_DIR = 'dataset/SCMFDD/SCMFDD-L/'\n",
    "\n",
    "scmff_dda = read_csv(f'{SCMFF_DIR}drug-disease association.csv')\n",
    "scmff_drugs = read_csv(f'{SCMFF_DIR}drug.csv')\n",
    "scmff_diseases = read_csv(f'{SCMFF_DIR}disease.csv')"
   ],
   "metadata": {
    "collapsed": false,
    "ExecuteTime": {
     "end_time": "2023-05-12T15:02:43.957662800Z",
     "start_time": "2023-05-12T15:02:43.877081Z"
    }
   }
  },
  {
   "cell_type": "markdown",
   "source": [
    "Add column `source` that is `true` for each disease of `df_entities` that is also inside the test set."
   ],
   "metadata": {
    "collapsed": false
   }
  },
  {
   "cell_type": "code",
   "execution_count": 13,
   "outputs": [
    {
     "data": {
      "text/plain": "64555"
     },
     "execution_count": 13,
     "metadata": {},
     "output_type": "execute_result"
    }
   ],
   "source": [
    "scmff_diseases_labels = scmff_diseases['disease_id'].unique()\n",
    "union_diseases = list(filter(lambda x: normalize_meshId(x) in scmff_diseases_labels,\n",
    "                             df_entities[df_entities['obj'] == 'disease']['id'].unique()))\n",
    "\n",
    "df_entities['source'] = (df_entities['obj'] == 'disease') & (df_entities['id'].isin(union_diseases))\n",
    "\n",
    "sum(df_entities['source'])"
   ],
   "metadata": {
    "collapsed": false,
    "ExecuteTime": {
     "end_time": "2023-05-12T15:02:44.190832100Z",
     "start_time": "2023-05-12T15:02:43.957662800Z"
    }
   }
  },
  {
   "cell_type": "code",
   "execution_count": 14,
   "outputs": [],
   "source": [
    "scmff_dda['drug_id'] = scmff_dda['drug_id'].apply(normalize_meshId)\n",
    "scmff_dda['disease_id'] = scmff_dda['disease_id'].apply(normalize_meshId)\n",
    "\n",
    "normalized_union_diseases = map(normalize_meshId, union_diseases)\n",
    "scmff_dda = scmff_dda[scmff_dda['disease_id'].isin(normalized_union_diseases)]"
   ],
   "metadata": {
    "collapsed": false,
    "ExecuteTime": {
     "end_time": "2023-05-12T15:02:44.251890Z",
     "start_time": "2023-05-12T15:02:44.219381500Z"
    }
   }
  },
  {
   "cell_type": "code",
   "execution_count": 15,
   "outputs": [],
   "source": [
    "test_set = {\n",
    "    (\n",
    "        v['drug_id'],\n",
    "        v['disease_id']\n",
    "    ): True for v in scmff_dda[['drug_id', 'disease_id']].to_dict(orient='records')\n",
    "}"
   ],
   "metadata": {
    "collapsed": false,
    "ExecuteTime": {
     "end_time": "2023-05-12T15:02:44.351571800Z",
     "start_time": "2023-05-12T15:02:44.251890Z"
    }
   }
  },
  {
   "cell_type": "code",
   "execution_count": null,
   "outputs": [],
   "source": [
    "id_to_wuid = {id: f'unique_{i}' for i, id in enumerate(df_entities['id'].unique())}\n",
    "texts = df_texts.progress_apply(preprocess_text(df_entities,id_to_wuid), axis=1).tolist()"
   ],
   "metadata": {
    "collapsed": false
   }
  },
  {
   "cell_type": "code",
   "execution_count": 16,
   "outputs": [],
   "source": [
    "coc_configs = dict(\n",
    "    k=list(range(5, 41, 5))\n",
    ")\n",
    "\n",
    "w2v_configs = dict(\n",
    "    min_count=[2, 5],\n",
    "    vector_size=[100, 500],\n",
    "    window=[5, 10],\n",
    "    sg=[False, True],\n",
    "    learning_rate=[0.1],\n",
    "    epochs=[100],\n",
    ")\n",
    "\n",
    "configs = [\n",
    "    *[(graphType.COOCCURRENCES, dict(zip(coc_configs, t))) for t in product(*coc_configs.values())],\n",
    "    *[(graphType.WORD2VEC, dict(zip(w2v_configs, t))) for t in product(*w2v_configs.values())],\n",
    "]\n",
    "\n",
    "ranking = gridsearch(configs=configs,\n",
    "                     ts_set=test_set,\n",
    "                     texts=texts,\n",
    "                     df_entities=df_entities,\n",
    "                     firsts_selected_diseases=100,\n",
    "                     validity=10)"
   ],
   "metadata": {
    "collapsed": false,
    "ExecuteTime": {
     "end_time": "2023-05-12T15:02:44.377238Z",
     "start_time": "2023-05-12T15:02:44.351571800Z"
    }
   }
  },
  {
   "cell_type": "code",
   "execution_count": null,
   "outputs": [],
   "source": [
    "for precision, config in ranking:\n",
    "    print(precision, config)"
   ],
   "metadata": {
    "collapsed": false
   }
  },
  {
   "cell_type": "code",
   "execution_count": null,
   "outputs": [],
   "source": [
    "precision, config = ranking[0]\n",
    "graph = build_graph_from_config(config, df_entities, test_set)"
   ],
   "metadata": {
    "collapsed": false
   }
  },
  {
   "cell_type": "code",
   "execution_count": null,
   "outputs": [],
   "source": [
    "plot_hist(graph,10)"
   ],
   "metadata": {
    "collapsed": false
   }
  },
  {
   "cell_type": "code",
   "execution_count": null,
   "outputs": [],
   "source": [
    "plot_hist(graph,30)"
   ],
   "metadata": {
    "collapsed": false
   }
  },
  {
   "cell_type": "code",
   "execution_count": null,
   "outputs": [],
   "source": [
    "plot_hist(graph,100)"
   ],
   "metadata": {
    "collapsed": false
   }
  }
 ],
 "metadata": {
  "kernelspec": {
   "display_name": "Python 3",
   "language": "python",
   "name": "python3"
  },
  "language_info": {
   "codemirror_mode": {
    "name": "ipython",
    "version": 2
   },
   "file_extension": ".py",
   "mimetype": "text/x-python",
   "name": "python",
   "nbconvert_exporter": "python",
   "pygments_lexer": "ipython2",
   "version": "2.7.6"
  }
 },
 "nbformat": 4,
 "nbformat_minor": 0
}
