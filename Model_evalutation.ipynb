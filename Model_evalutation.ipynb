{
 "cells": [
  {
   "cell_type": "code",
   "execution_count": 1,
   "metadata": {
    "ExecuteTime": {
     "end_time": "2023-05-15T14:14:19.988037600Z",
     "start_time": "2023-05-15T14:14:19.737088900Z"
    },
    "collapsed": true
   },
   "outputs": [
    {
     "name": "stderr",
     "output_type": "stream",
     "text": [
      "[nltk_data] Downloading package punkt to\n",
      "[nltk_data]     /Users/geremiapompei/nltk_data...\n",
      "[nltk_data]   Package punkt is already up-to-date!\n",
      "[nltk_data] Downloading package stopwords to\n",
      "[nltk_data]     /Users/geremiapompei/nltk_data...\n",
      "[nltk_data]   Package stopwords is already up-to-date!\n"
     ]
    }
   ],
   "source": [
    "from Utils import normalize_meshId,preprocess_text\n",
    "from pandas import read_csv\n",
    "from Data_retrieval import load_dataset\n",
    "from Evalutation import graphType, model_evaluation, create_knowledge_graph,find_diseases_precisionz, pValues_DDAs\n",
    "from collections import Counter\n",
    "from numpy import array\n",
    "\n",
    "from itertools import product\n",
    "from tqdm.notebook import tqdm\n",
    "tqdm.pandas()\n",
    "\n",
    "%reload_ext autoreload\n",
    "%autoreload 2"
   ]
  },
  {
   "cell_type": "code",
   "execution_count": 2,
   "metadata": {
    "ExecuteTime": {
     "end_time": "2023-05-15T14:14:24.584943100Z",
     "start_time": "2023-05-15T14:14:21.190563700Z"
    },
    "collapsed": false
   },
   "outputs": [],
   "source": [
    "df_texts, df_entities = load_dataset()\n",
    "\n",
    "df_entities = df_entities[~df_entities['prob'].isna()]\n",
    "df_entities = df_entities[df_entities['prob'] > 0.8]\n",
    "df_entities = df_entities[['id', 'pmid', 'mention', 'obj', 'span_begin', 'span_end']]"
   ]
  },
  {
   "cell_type": "markdown",
   "metadata": {
    "collapsed": false
   },
   "source": [
    "## Test set creation\n",
    "\n",
    "To test the knowledge graph is used the SCMFDD dataset, there are three kinds of files: diseases, drugs and diseases-drugs associations.\n",
    "\n",
    "The dataframe `diseases-drug` associations contains:\n",
    "- drug_id: id of drug\n",
    "- drug_name: plain name of drug\n",
    "- disease_id: id of disease\n",
    "- disease_name: plain name of disease"
   ]
  },
  {
   "cell_type": "code",
   "execution_count": 3,
   "metadata": {
    "ExecuteTime": {
     "end_time": "2023-05-15T14:14:24.892352Z",
     "start_time": "2023-05-15T14:14:24.584943100Z"
    },
    "collapsed": false
   },
   "outputs": [],
   "source": [
    "SCMFF_DIR = 'dataset/SCMFDD/SCMFDD-L/'\n",
    "\n",
    "scmff_dda = read_csv(f'{SCMFF_DIR}drug-disease association.csv')\n",
    "scmff_drugs = read_csv(f'{SCMFF_DIR}drug.csv')\n",
    "scmff_diseases = read_csv(f'{SCMFF_DIR}disease.csv')"
   ]
  },
  {
   "cell_type": "markdown",
   "metadata": {
    "collapsed": false
   },
   "source": [
    "Add column `source` that is `true` for each disease of `df_entities` that is also inside the test set."
   ]
  },
  {
   "cell_type": "code",
   "execution_count": 4,
   "metadata": {
    "ExecuteTime": {
     "end_time": "2023-05-15T14:18:53.144650300Z",
     "start_time": "2023-05-15T14:18:52.676470400Z"
    },
    "collapsed": false
   },
   "outputs": [
    {
     "data": {
      "text/plain": [
       "64555"
      ]
     },
     "execution_count": 4,
     "metadata": {},
     "output_type": "execute_result"
    }
   ],
   "source": [
    "scmff_diseases_labels = scmff_diseases['disease_id'].unique()\n",
    "union_diseases = list(filter(lambda x: normalize_meshId(x) in scmff_diseases_labels,\n",
    "                             df_entities[df_entities['obj'] == 'disease']['id'].unique()))\n",
    "\n",
    "df_entities['source'] = (df_entities['obj'] == 'disease') & (df_entities['id'].isin(union_diseases))\n",
    "\n",
    "sum(df_entities['source'])"
   ]
  },
  {
   "cell_type": "code",
   "execution_count": 5,
   "metadata": {
    "ExecuteTime": {
     "end_time": "2023-05-15T14:18:54.456457100Z",
     "start_time": "2023-05-15T14:18:54.156759Z"
    },
    "collapsed": false
   },
   "outputs": [],
   "source": [
    "scmff_dda['drug_id'] = scmff_dda['drug_id'].apply(normalize_meshId)\n",
    "scmff_dda['disease_id'] = scmff_dda['disease_id'].apply(normalize_meshId)\n",
    "\n",
    "normalized_union_diseases = map(normalize_meshId, union_diseases)\n",
    "scmff_dda = scmff_dda[scmff_dda['disease_id'].isin(normalized_union_diseases)]"
   ]
  },
  {
   "cell_type": "code",
   "execution_count": 6,
   "metadata": {
    "ExecuteTime": {
     "end_time": "2023-05-15T14:18:56.715788900Z",
     "start_time": "2023-05-15T14:18:56.110356800Z"
    },
    "collapsed": false
   },
   "outputs": [],
   "source": [
    "test_set = {\n",
    "    (\n",
    "        v['drug_id'],\n",
    "        v['disease_id']\n",
    "    ): True for v in scmff_dda[['drug_id', 'disease_id']].to_dict(orient='records')\n",
    "}"
   ]
  },
  {
   "cell_type": "code",
   "execution_count": 7,
   "metadata": {
    "ExecuteTime": {
     "end_time": "2023-05-15T14:18:57.491632500Z",
     "start_time": "2023-05-15T14:18:57.226128100Z"
    },
    "collapsed": false
   },
   "outputs": [
    {
     "data": {
      "text/html": [
       "<div>\n",
       "<style scoped>\n",
       "    .dataframe tbody tr th:only-of-type {\n",
       "        vertical-align: middle;\n",
       "    }\n",
       "\n",
       "    .dataframe tbody tr th {\n",
       "        vertical-align: top;\n",
       "    }\n",
       "\n",
       "    .dataframe thead th {\n",
       "        text-align: right;\n",
       "    }\n",
       "</style>\n",
       "<table border=\"1\" class=\"dataframe\">\n",
       "  <thead>\n",
       "    <tr style=\"text-align: right;\">\n",
       "      <th></th>\n",
       "      <th>drug_id</th>\n",
       "      <th>drug_name</th>\n",
       "      <th>disease_id</th>\n",
       "      <th>disease_name</th>\n",
       "    </tr>\n",
       "  </thead>\n",
       "  <tbody>\n",
       "    <tr>\n",
       "      <th>1</th>\n",
       "      <td>C074619</td>\n",
       "      <td>bivalirudin</td>\n",
       "      <td>D006470</td>\n",
       "      <td>Hemorrhage</td>\n",
       "    </tr>\n",
       "    <tr>\n",
       "      <th>2</th>\n",
       "      <td>C074619</td>\n",
       "      <td>bivalirudin</td>\n",
       "      <td>D007249</td>\n",
       "      <td>Inflammation</td>\n",
       "    </tr>\n",
       "    <tr>\n",
       "      <th>3</th>\n",
       "      <td>C074619</td>\n",
       "      <td>bivalirudin</td>\n",
       "      <td>D007511</td>\n",
       "      <td>Ischemia</td>\n",
       "    </tr>\n",
       "    <tr>\n",
       "      <th>4</th>\n",
       "      <td>C074619</td>\n",
       "      <td>bivalirudin</td>\n",
       "      <td>D013921</td>\n",
       "      <td>Thrombocytopenia</td>\n",
       "    </tr>\n",
       "    <tr>\n",
       "      <th>5</th>\n",
       "      <td>C074619</td>\n",
       "      <td>bivalirudin</td>\n",
       "      <td>D013927</td>\n",
       "      <td>Thrombosis</td>\n",
       "    </tr>\n",
       "    <tr>\n",
       "      <th>...</th>\n",
       "      <td>...</td>\n",
       "      <td>...</td>\n",
       "      <td>...</td>\n",
       "      <td>...</td>\n",
       "    </tr>\n",
       "    <tr>\n",
       "      <th>49212</th>\n",
       "      <td>D013747</td>\n",
       "      <td>Tetrabenazine</td>\n",
       "      <td>D017109</td>\n",
       "      <td>Akathisia, Drug-Induced</td>\n",
       "    </tr>\n",
       "    <tr>\n",
       "      <th>49213</th>\n",
       "      <td>D013747</td>\n",
       "      <td>Tetrabenazine</td>\n",
       "      <td>D018476</td>\n",
       "      <td>Hypokinesia</td>\n",
       "    </tr>\n",
       "    <tr>\n",
       "      <th>49214</th>\n",
       "      <td>D013747</td>\n",
       "      <td>Tetrabenazine</td>\n",
       "      <td>D020734</td>\n",
       "      <td>Parkinsonian Disorders</td>\n",
       "    </tr>\n",
       "    <tr>\n",
       "      <th>49215</th>\n",
       "      <td>D013747</td>\n",
       "      <td>Tetrabenazine</td>\n",
       "      <td>D020820</td>\n",
       "      <td>Dyskinesias</td>\n",
       "    </tr>\n",
       "    <tr>\n",
       "      <th>49216</th>\n",
       "      <td>D013747</td>\n",
       "      <td>Tetrabenazine</td>\n",
       "      <td>D020821</td>\n",
       "      <td>Dystonic Disorders</td>\n",
       "    </tr>\n",
       "  </tbody>\n",
       "</table>\n",
       "<p>34947 rows × 4 columns</p>\n",
       "</div>"
      ],
      "text/plain": [
       "       drug_id      drug_name disease_id             disease_name\n",
       "1      C074619    bivalirudin    D006470               Hemorrhage\n",
       "2      C074619    bivalirudin    D007249             Inflammation\n",
       "3      C074619    bivalirudin    D007511                 Ischemia\n",
       "4      C074619    bivalirudin    D013921         Thrombocytopenia\n",
       "5      C074619    bivalirudin    D013927               Thrombosis\n",
       "...        ...            ...        ...                      ...\n",
       "49212  D013747  Tetrabenazine    D017109  Akathisia, Drug-Induced\n",
       "49213  D013747  Tetrabenazine    D018476              Hypokinesia\n",
       "49214  D013747  Tetrabenazine    D020734   Parkinsonian Disorders\n",
       "49215  D013747  Tetrabenazine    D020820              Dyskinesias\n",
       "49216  D013747  Tetrabenazine    D020821       Dystonic Disorders\n",
       "\n",
       "[34947 rows x 4 columns]"
      ]
     },
     "execution_count": 7,
     "metadata": {},
     "output_type": "execute_result"
    }
   ],
   "source": [
    "scmff_dda"
   ]
  },
  {
   "cell_type": "markdown",
   "metadata": {
    "collapsed": false
   },
   "source": [
    "# Model evaluation"
   ]
  },
  {
   "cell_type": "code",
   "execution_count": 8,
   "metadata": {
    "collapsed": false
   },
   "outputs": [
    {
     "data": {
      "application/vnd.jupyter.widget-view+json": {
       "model_id": "09bf469b7bb549498f32b507064a21eb",
       "version_major": 2,
       "version_minor": 0
      },
      "text/plain": [
       "  0%|          | 0/9996 [00:00<?, ?it/s]"
      ]
     },
     "metadata": {},
     "output_type": "display_data"
    }
   ],
   "source": [
    "id_to_wuid = {id: f'unique_{i}' for i, id in enumerate(df_entities['id'].unique())}\n",
    "df_entities['wuid'] = df_entities['id'].apply(lambda x: id_to_wuid[x])\n",
    "texts = df_texts.progress_apply(preprocess_text(df_entities,id_to_wuid), axis=1).tolist()"
   ]
  },
  {
   "cell_type": "markdown",
   "metadata": {
    "collapsed": false
   },
   "source": [
    "Configuration to try"
   ]
  },
  {
   "cell_type": "code",
   "execution_count": 9,
   "metadata": {
    "ExecuteTime": {
     "end_time": "2023-05-14T10:22:48.315424900Z",
     "start_time": "2023-05-14T10:22:48.015938700Z"
    },
    "collapsed": false
   },
   "outputs": [],
   "source": [
    "coc_configs = dict(\n",
    "    k=list(range(5, 41, 5))\n",
    ")\n",
    "\n",
    "w2v_configs = dict(\n",
    "    learning_rate=[0.1],    # Learning rate to training the model\n",
    "    epochs=[100],           # Number of epochs\n",
    "    vector_size=[100, 500], # Latent space dimension\n",
    "    sg=[False, True],       # False->CBOW (Continuous bag of words) True->skip-gram\n",
    "    window=[5, 10],         # contex window dimension\n",
    "    min_count=[2, 5],       # threshold for the frequency\n",
    ")\n",
    "\n",
    "configs = [\n",
    "    *[(graphType.COOCCURRENCES, dict(zip(coc_configs, t))) for t in product(*coc_configs.values())],\n",
    "    *[(graphType.WORD2VEC, dict(zip(w2v_configs, t))) for t in product(*w2v_configs.values())],\n",
    "]"
   ]
  },
  {
   "cell_type": "markdown",
   "metadata": {
    "collapsed": false
   },
   "source": [
    "Automatically try all configurations and rank them by precision achieved"
   ]
  },
  {
   "cell_type": "code",
   "execution_count": null,
   "metadata": {
    "collapsed": false
   },
   "outputs": [],
   "source": [
    "ranking = model_evaluation(configs=configs,\n",
    "                     ts_set=test_set,\n",
    "                     texts=texts,\n",
    "                     df_entities=df_entities,\n",
    "                     max_diseases=100,\n",
    "                     top_z=10)"
   ]
  },
  {
   "cell_type": "code",
   "execution_count": null,
   "metadata": {
    "collapsed": false
   },
   "outputs": [],
   "source": [
    "for precision, config in ranking:\n",
    "    print(precision, config)"
   ]
  },
  {
   "cell_type": "markdown",
   "metadata": {
    "collapsed": false
   },
   "source": [
    "### We found that the best configuration is with Co-occurrences with k=10"
   ]
  },
  {
   "cell_type": "code",
   "execution_count": 10,
   "metadata": {
    "ExecuteTime": {
     "end_time": "2023-05-14T10:22:48.454526500Z",
     "start_time": "2023-05-14T10:22:48.315424900Z"
    },
    "collapsed": false
   },
   "outputs": [
    {
     "data": {
      "text/plain": [
       "{'k': 10}"
      ]
     },
     "execution_count": 10,
     "metadata": {},
     "output_type": "execute_result"
    }
   ],
   "source": [
    "configs[1][1]"
   ]
  },
  {
   "cell_type": "code",
   "execution_count": 11,
   "metadata": {
    "ExecuteTime": {
     "end_time": "2023-05-14T10:24:39.042122100Z",
     "start_time": "2023-05-14T10:22:48.454526500Z"
    },
    "collapsed": false
   },
   "outputs": [
    {
     "name": "stderr",
     "output_type": "stream",
     "text": [
      "Co_occurrencesGraph populate_adj_matrix: 100%|██████████| 9898/9898 [00:44<00:00, 220.39it/s]\n"
     ]
    }
   ],
   "source": [
    "# precision, config = ranking[1]\n",
    "graph = create_knowledge_graph(configs[1], df_entities, test_set)"
   ]
  },
  {
   "cell_type": "markdown",
   "metadata": {
    "collapsed": false
   },
   "source": [
    "## Evaluation A"
   ]
  },
  {
   "cell_type": "code",
   "execution_count": 12,
   "metadata": {
    "ExecuteTime": {
     "end_time": "2023-05-14T10:28:26.394814100Z",
     "start_time": "2023-05-14T10:24:39.042122100Z"
    },
    "collapsed": false
   },
   "outputs": [
    {
     "name": "stderr",
     "output_type": "stream",
     "text": [
      "test_drug_disease: 100%|██████████| 100/100 [01:35<00:00,  1.04it/s]\n"
     ]
    }
   ],
   "source": [
    "matches = find_diseases_precisionz(graph, top_z=10, test_set=test_set, max_diseases=100)"
   ]
  },
  {
   "cell_type": "markdown",
   "metadata": {
    "collapsed": false
   },
   "source": [
    "Describe the precision achieved for 100 diseases"
   ]
  },
  {
   "cell_type": "code",
   "execution_count": 13,
   "metadata": {
    "ExecuteTime": {
     "end_time": "2023-05-14T10:31:37.962076400Z",
     "start_time": "2023-05-14T10:31:37.387022500Z"
    },
    "collapsed": false
   },
   "outputs": [
    {
     "name": "stdout",
     "output_type": "stream",
     "text": [
      "Counter({0.0: 71, 0.1: 27, 0.2: 1, 0.4: 1, 0.3: 0})\n"
     ]
    },
    {
     "data": {
      "image/png": "[encoded data removed]",
      "text/plain": [
       "<Figure size 800x400 with 1 Axes>"
      ]
     },
     "metadata": {},
     "output_type": "display_data"
    }
   ],
   "source": [
    "from Evalutation import plot_hist\n",
    "%reload_ext autoreload\n",
    "%autoreload 2\n",
    "t = Counter(matches)\n",
    "t[.3] = 0\n",
    "print(t)\n",
    "t = dict(sorted(t.items(), key=lambda item: item[0]))\n",
    "x = array(list(t.keys())) * 10\n",
    "y = array(list(t.values()))\n",
    "\n",
    "plot_hist(x,y)"
   ]
  },
  {
   "cell_type": "markdown",
   "metadata": {
    "collapsed": false
   },
   "source": [
    "## Evaluation B"
   ]
  },
  {
   "cell_type": "code",
   "execution_count": 14,
   "metadata": {
    "ExecuteTime": {
     "end_time": "2023-05-13T13:22:25.048341Z",
     "start_time": "2023-05-13T13:22:24.353022900Z"
    },
    "collapsed": false
   },
   "outputs": [],
   "source": [
    "# create a dictionary of DDA from test_set\n",
    "disease_drugs = {}\n",
    "for (drug, disease), _ in test_set.items():\n",
    "    if disease not in disease_drugs:\n",
    "        disease_drugs[disease] = [drug]\n",
    "    else:\n",
    "        disease_drugs[disease].append(drug)"
   ]
  },
  {
   "cell_type": "code",
   "execution_count": null,
   "metadata": {
    "collapsed": false
   },
   "outputs": [],
   "source": [
    "pValues = pValues_DDAs(graph=graph,\n",
    "                       ddas=disease_drugs,\n",
    "                       max_diseases=10,\n",
    "                       n_samples=3)"
   ]
  },
  {
   "cell_type": "code",
   "execution_count": 15,
   "metadata": {
    "ExecuteTime": {
     "end_time": "2023-05-15T14:41:40.073942700Z",
     "start_time": "2023-05-15T14:41:39.824964200Z"
    },
    "collapsed": false
   },
   "outputs": [],
   "source": [
    "pValues = [0.4474150974725506,\n",
    " 0.7758916519397002,\n",
    " 0.42578987277497826,\n",
    " 0.6834724817423341,\n",
    " 0.44755628041210505,\n",
    " 0.2856933831503558,\n",
    " 0.00020957884158454972,\n",
    " 0.024716017356946285,\n",
    " 0.1359102710650009,\n",
    " 0.8359753942553461,\n",
    " 0.4708784117318766,\n",
    " 0.15633057892315078,\n",
    " 0.0417535284967034,\n",
    " 0.2770658573997668,\n",
    " 0.7696008559247212,\n",
    " 0.47669944424089467,\n",
    " 0.213685989598322]"
   ]
  },
  {
   "cell_type": "code",
   "execution_count": 16,
   "metadata": {
    "ExecuteTime": {
     "end_time": "2023-05-15T07:45:20.694167700Z",
     "start_time": "2023-05-15T07:45:19.585001500Z"
    },
    "collapsed": false
   },
   "outputs": [
    {
     "data": {
      "image/png": "[encoded data removed]",
      "text/plain": [
       "<Figure size 800x400 with 1 Axes>"
      ]
     },
     "metadata": {},
     "output_type": "display_data"
    }
   ],
   "source": [
    "import matplotlib.pyplot as plt\n",
    "plt.figure(figsize=(8, 4))\n",
    "ax = plt.axes()\n",
    "ax.set_facecolor(\"#ececec\")\n",
    "ax.set_axisbelow(True)\n",
    "ax.yaxis.grid(color='white')\n",
    "ax.xaxis.grid(color='white')\n",
    "plt.bar(range(len(pValues)), pValues, color=\"#2985e5\", edgecolor=\"black\")\n",
    "plt.xticks(range(len(pValues)), [*range(1,len(pValues)+1)])\n",
    "plt.xlabel(\"First 17 disease in the KG and TS\")\n",
    "plt.ylabel(\"p-value\")\n",
    "plt.title(\"P-value for first 17 disease\")\n",
    "plt.show()"
   ]
  }
 ],
 "metadata": {
  "kernelspec": {
   "display_name": "Python 3",
   "language": "python",
   "name": "python3"
  },
  "language_info": {
   "codemirror_mode": {
    "name": "ipython",
    "version": 2
   },
   "file_extension": ".py",
   "mimetype": "text/x-python",
   "name": "python",
   "nbconvert_exporter": "python",
   "pygments_lexer": "ipython2",
   "version": "2.7.6"
  }
 },
 "nbformat": 4,
 "nbformat_minor": 0
}
