{
 "cells": [
  {
   "cell_type": "code",
   "execution_count": 1,
   "metadata": {
    "collapsed": true,
    "ExecuteTime": {
     "end_time": "2023-05-13T10:32:06.254795400Z",
     "start_time": "2023-05-13T10:32:03.401584Z"
    }
   },
   "outputs": [
    {
     "name": "stderr",
     "output_type": "stream",
     "text": [
      "[nltk_data] Downloading package punkt to\n",
      "[nltk_data]     C:\\Users\\Andrea\\AppData\\Roaming\\nltk_data...\n",
      "[nltk_data]   Package punkt is already up-to-date!\n",
      "[nltk_data] Downloading package stopwords to\n",
      "[nltk_data]     C:\\Users\\Andrea\\AppData\\Roaming\\nltk_data...\n",
      "[nltk_data]   Package stopwords is already up-to-date!\n"
     ]
    }
   ],
   "source": [
    "from Utils import normalize_meshId,preprocess_text\n",
    "from pandas import read_csv\n",
    "from Data_retrieval import load_dataset\n",
    "from Evalutation import graphType, model_evaluation, create_knowledge_graph, plot_hist,find_matches_drug_disease\n",
    "from itertools import product\n",
    "from tqdm.notebook import tqdm\n",
    "tqdm.pandas()\n",
    "\n",
    "%reload_ext autoreload\n",
    "%autoreload 2"
   ]
  },
  {
   "cell_type": "code",
   "execution_count": 2,
   "outputs": [],
   "source": [
    "df_texts, df_entities = load_dataset()\n",
    "\n",
    "df_entities = df_entities[~df_entities['prob'].isna()]\n",
    "df_entities = df_entities[df_entities['prob'] > 0.8]\n",
    "df_entities = df_entities[['id', 'pmid', 'mention', 'obj', 'span_begin', 'span_end']]"
   ],
   "metadata": {
    "collapsed": false,
    "ExecuteTime": {
     "end_time": "2023-05-13T10:32:08.736978500Z",
     "start_time": "2023-05-13T10:32:06.247781600Z"
    }
   }
  },
  {
   "cell_type": "markdown",
   "source": [
    "## Test set creation\n",
    "\n",
    "To test the knowledge graph is used the SCMFDD dataset, there are three kinds of files: diseases, drugs and diseases-drugs associations.\n",
    "\n",
    "The dataframe `diseases-drug` associations contains:\n",
    "- drug_id: id of drug\n",
    "- drug_name: plain name of drug\n",
    "- disease_id: id of disease\n",
    "- disease_name: plain name of disease"
   ],
   "metadata": {
    "collapsed": false
   }
  },
  {
   "cell_type": "code",
   "execution_count": 3,
   "outputs": [],
   "source": [
    "SCMFF_DIR = 'dataset/SCMFDD/SCMFDD-L/'\n",
    "\n",
    "scmff_dda = read_csv(f'{SCMFF_DIR}drug-disease association.csv')\n",
    "scmff_drugs = read_csv(f'{SCMFF_DIR}drug.csv')\n",
    "scmff_diseases = read_csv(f'{SCMFF_DIR}disease.csv')"
   ],
   "metadata": {
    "collapsed": false,
    "ExecuteTime": {
     "end_time": "2023-05-13T10:32:08.910064200Z",
     "start_time": "2023-05-13T10:32:08.726992400Z"
    }
   }
  },
  {
   "cell_type": "markdown",
   "source": [
    "Add column `source` that is `true` for each disease of `df_entities` that is also inside the test set."
   ],
   "metadata": {
    "collapsed": false
   }
  },
  {
   "cell_type": "code",
   "execution_count": 4,
   "outputs": [
    {
     "data": {
      "text/plain": "64555"
     },
     "execution_count": 4,
     "metadata": {},
     "output_type": "execute_result"
    }
   ],
   "source": [
    "scmff_diseases_labels = scmff_diseases['disease_id'].unique()\n",
    "union_diseases = list(filter(lambda x: normalize_meshId(x) in scmff_diseases_labels,\n",
    "                             df_entities[df_entities['obj'] == 'disease']['id'].unique()))\n",
    "\n",
    "df_entities['source'] = (df_entities['obj'] == 'disease') & (df_entities['id'].isin(union_diseases))\n",
    "\n",
    "sum(df_entities['source'])"
   ],
   "metadata": {
    "collapsed": false,
    "ExecuteTime": {
     "end_time": "2023-05-13T10:32:09.595083800Z",
     "start_time": "2023-05-13T10:32:08.913065800Z"
    }
   }
  },
  {
   "cell_type": "code",
   "execution_count": 5,
   "outputs": [],
   "source": [
    "scmff_dda['drug_id'] = scmff_dda['drug_id'].apply(normalize_meshId)\n",
    "scmff_dda['disease_id'] = scmff_dda['disease_id'].apply(normalize_meshId)\n",
    "\n",
    "normalized_union_diseases = map(normalize_meshId, union_diseases)\n",
    "scmff_dda = scmff_dda[scmff_dda['disease_id'].isin(normalized_union_diseases)]"
   ],
   "metadata": {
    "collapsed": false,
    "ExecuteTime": {
     "end_time": "2023-05-13T10:32:09.834138600Z",
     "start_time": "2023-05-13T10:32:09.599085300Z"
    }
   }
  },
  {
   "cell_type": "code",
   "execution_count": 6,
   "outputs": [],
   "source": [
    "test_set = {\n",
    "    (\n",
    "        v['drug_id'],\n",
    "        v['disease_id']\n",
    "    ): True for v in scmff_dda[['drug_id', 'disease_id']].to_dict(orient='records')\n",
    "}"
   ],
   "metadata": {
    "collapsed": false,
    "ExecuteTime": {
     "end_time": "2023-05-13T10:32:10.078729600Z",
     "start_time": "2023-05-13T10:32:09.835143600Z"
    }
   }
  },
  {
   "cell_type": "code",
   "execution_count": null,
   "outputs": [],
   "source": [
    "# id_to_wuid = {id: f'unique_{i}' for i, id in enumerate(df_entities['id'].unique())}\n",
    "# texts = df_texts.progress_apply(preprocess_text(df_entities,id_to_wuid), axis=1).tolist()"
   ],
   "metadata": {
    "collapsed": false
   }
  },
  {
   "cell_type": "code",
   "execution_count": 7,
   "outputs": [],
   "source": [
    "coc_configs = dict(\n",
    "    k=list(range(5, 41, 5))\n",
    ")\n",
    "\n",
    "w2v_configs = dict(\n",
    "    min_count=[2, 5],\n",
    "    vector_size=[100, 500],\n",
    "    window=[5, 10],\n",
    "    sg=[False, True],\n",
    "    learning_rate=[0.1],\n",
    "    epochs=[100],\n",
    ")\n",
    "\n",
    "configs = [\n",
    "    *[(graphType.COOCCURRENCES, dict(zip(coc_configs, t))) for t in product(*coc_configs.values())],\n",
    "    *[(graphType.WORD2VEC, dict(zip(w2v_configs, t))) for t in product(*w2v_configs.values())],\n",
    "]"
   ],
   "metadata": {
    "collapsed": false,
    "ExecuteTime": {
     "end_time": "2023-05-13T10:32:11.065152200Z",
     "start_time": "2023-05-13T10:32:10.923069500Z"
    }
   }
  },
  {
   "cell_type": "code",
   "execution_count": null,
   "outputs": [],
   "source": [
    "ranking = model_evaluation(configs=configs,\n",
    "                     ts_set=test_set,\n",
    "                     texts=texts,\n",
    "                     df_entities=df_entities,\n",
    "                     max_diseases=100,\n",
    "                     top_z=10)"
   ],
   "metadata": {
    "collapsed": false
   }
  },
  {
   "cell_type": "code",
   "execution_count": null,
   "outputs": [],
   "source": [
    "for precision, config in ranking:\n",
    "    print(precision, config)"
   ],
   "metadata": {
    "collapsed": false
   }
  },
  {
   "cell_type": "code",
   "execution_count": 8,
   "outputs": [
    {
     "data": {
      "text/plain": "{'k': 10}"
     },
     "execution_count": 8,
     "metadata": {},
     "output_type": "execute_result"
    }
   ],
   "source": [
    "# We found that the best configuration is with Cooncurrences with k = 10\n",
    "configs[1][1]"
   ],
   "metadata": {
    "collapsed": false,
    "ExecuteTime": {
     "end_time": "2023-05-13T10:32:14.477338400Z",
     "start_time": "2023-05-13T10:32:14.332492500Z"
    }
   }
  },
  {
   "cell_type": "code",
   "execution_count": 9,
   "outputs": [
    {
     "name": "stderr",
     "output_type": "stream",
     "text": [
      "Co_occurrencesGraph populate_adj_matrix: 100%|██████████| 9898/9898 [01:31<00:00, 108.07it/s]\n"
     ]
    }
   ],
   "source": [
    "# precision, config = ranking[1]\n",
    "graph = create_knowledge_graph(configs[1], df_entities, test_set)"
   ],
   "metadata": {
    "collapsed": false,
    "ExecuteTime": {
     "end_time": "2023-05-13T10:33:56.520571800Z",
     "start_time": "2023-05-13T10:32:15.426757400Z"
    }
   }
  },
  {
   "cell_type": "code",
   "execution_count": 13,
   "outputs": [
    {
     "name": "stderr",
     "output_type": "stream",
     "text": [
      "test_drug_disease: 100%|██████████| 100/100 [03:14<00:00,  1.94s/it]\n"
     ]
    }
   ],
   "source": [
    "matches = find_matches_drug_disease(graph, top_z=10, test_set=test_set, max_diseases=100)"
   ],
   "metadata": {
    "collapsed": false,
    "ExecuteTime": {
     "end_time": "2023-05-13T10:43:39.420692400Z",
     "start_time": "2023-05-13T10:40:22.679635800Z"
    }
   }
  },
  {
   "cell_type": "code",
   "execution_count": 14,
   "outputs": [
    {
     "data": {
      "text/plain": "<Figure size 800x400 with 1 Axes>",
      "image/png": "[encoded data removed]"
     },
     "metadata": {},
     "output_type": "display_data"
    }
   ],
   "source": [
    "plot_hist(matches)"
   ],
   "metadata": {
    "collapsed": false,
    "ExecuteTime": {
     "end_time": "2023-05-13T10:43:39.819145100Z",
     "start_time": "2023-05-13T10:43:39.424692Z"
    }
   }
  },
  {
   "cell_type": "code",
   "execution_count": 20,
   "outputs": [
    {
     "data": {
      "text/plain": "0.8522887784721225"
     },
     "execution_count": 20,
     "metadata": {},
     "output_type": "execute_result"
    }
   ],
   "source": [
    "# import scipy.stats as stats\n",
    "#\n",
    "# stats.ttest_ind([1, 5, 8], [10, 5, 8], alternative='greater')[1]"
   ],
   "metadata": {
    "collapsed": false,
    "ExecuteTime": {
     "end_time": "2023-05-13T10:45:01.681610Z",
     "start_time": "2023-05-13T10:45:01.532524Z"
    }
   }
  },
  {
   "cell_type": "code",
   "execution_count": null,
   "outputs": [],
   "source": [
    "# disease_drugs = {}\n",
    "# for (drug, disease), _ in test_set.items():\n",
    "#     if disease not in disease_drugs:\n",
    "#         disease_drugs[disease] = [drug]\n",
    "#     else:\n",
    "#         disease_drugs[disease].append(drug)\n",
    "#\n",
    "# list(disease_drugs.items())[0]"
   ],
   "metadata": {
    "collapsed": false
   }
  },
  {
   "cell_type": "code",
   "execution_count": null,
   "outputs": [],
   "source": [
    "# def sample_test_drugs_by_disease(disease, k):\n",
    "#     drug_ids = disease_drugs[normalize_meshid(disease)]\n",
    "#     samples = sample(drug_ids, k) if k < len(drug_ids) else drug_ids\n",
    "#     return [normalize_meshid(id) for id in  samples]\n",
    "#\n",
    "#\n",
    "# def sample_drugs(graph: Graph, k):\n",
    "#     drug_ids = [normalize_meshid(id) for id, info in graph.id_to_info.items() if info['obj'] == 'drug']\n",
    "#     return sample(drug_ids, k) if k < len(drug_ids) else drug_ids\n",
    "#\n",
    "#\n",
    "# def find_pvalues_drug_disease(graph: Graph, firsts_selected_diseases: int = None, n_samples: int = 15, offset=0):\n",
    "#     i_diseases = [i_node for _, i_node in GraphRanker(graph).rank_nodes() if graph.index_to_info[i_node]['source']][offset\n",
    "#                                                                                                                     :firsts_selected_diseases]  # intersection\n",
    "#     predicate = lambda x: x['obj'] == 'drug'\n",
    "#     pvalues = []\n",
    "#\n",
    "#     for i_disease in tqdm(i_diseases, desc=\"find_pvalues_drug_disease\"):\n",
    "#         sample_true = sample_test_drugs_by_disease(normalize_meshid(graph.node_ids[i_disease]), n_samples)\n",
    "#         sample_random = sample_drugs(graph, n_samples)\n",
    "#\n",
    "#         storage = set()\n",
    "#         def stop_condition(x):\n",
    "#             norm_id = normalize_meshid(x['id'])\n",
    "#             if norm_id in sample_true or norm_id in sample_random:\n",
    "#                 storage.add(norm_id)\n",
    "#             return len(storage) >= len(sample_true) + len(sample_random)\n",
    "#\n",
    "#         nearest_neighbors = graph.find_nearest(i_disease, predicate=predicate, max=None, stop_condition=stop_condition)\n",
    "#         scores_true, scores_random = [], []\n",
    "#         for rank, (i_neighbor, _, _) in enumerate(nearest_neighbors):\n",
    "#             id_node = normalize_meshid(graph.node_ids[i_neighbor])\n",
    "#             if id_node in sample_true:\n",
    "#                 scores_true.append(rank + 1)\n",
    "#             if id_node in sample_random:\n",
    "#                 scores_random.append(rank + 1)\n",
    "#         pvalue = stats.ttest_ind(scores_true, scores_random).pvalue\n",
    "#         pvalues.append(0 if np.isnan(pvalue) else pvalue)\n",
    "#\n",
    "#     return pvalues"
   ],
   "metadata": {
    "collapsed": false
   }
  },
  {
   "cell_type": "code",
   "execution_count": null,
   "outputs": [],
   "source": [
    "# pvalues = [*pvalues, *find_pvalues_drug_disease(graph=graph, firsts_selected_diseases=20, n_samples=3, offset=10)]\n",
    "#\n",
    "# pvalues"
   ],
   "metadata": {
    "collapsed": false
   }
  },
  {
   "cell_type": "code",
   "execution_count": null,
   "outputs": [],
   "source": [
    "# plt.bar([str(i) for i, pv in enumerate(pvalues)], pvalues)"
   ],
   "metadata": {
    "collapsed": false
   }
  },
  {
   "cell_type": "code",
   "execution_count": null,
   "outputs": [],
   "source": [
    "# np.mean(pvalues)"
   ],
   "metadata": {
    "collapsed": false
   }
  },
  {
   "cell_type": "code",
   "execution_count": null,
   "outputs": [],
   "source": [
    "# i_diseases = [i_node for _, i_node in GraphRanker(graph).rank_nodes() if graph.index_to_info[i_node]['source']][:10]\n",
    "# for i_disease in tqdm(i_diseases):\n",
    "#     nearest_neighbors = graph.find_nearest(i_disease, predicate=lambda x: x['obj'] == 'drug', max=10)\n",
    "#     print(graph.index_to_info[i_disease][\"mention\"])\n",
    "#     for rank, (i_neighbor, history, cost) in enumerate(nearest_neighbors):\n",
    "#         print(f'\\t{rank}: {graph.index_to_info[i_neighbor][\"mention\"]} ({cost})')"
   ],
   "metadata": {
    "collapsed": false
   }
  }
 ],
 "metadata": {
  "kernelspec": {
   "display_name": "Python 3",
   "language": "python",
   "name": "python3"
  },
  "language_info": {
   "codemirror_mode": {
    "name": "ipython",
    "version": 2
   },
   "file_extension": ".py",
   "mimetype": "text/x-python",
   "name": "python",
   "nbconvert_exporter": "python",
   "pygments_lexer": "ipython2",
   "version": "2.7.6"
  }
 },
 "nbformat": 4,
 "nbformat_minor": 0
}
