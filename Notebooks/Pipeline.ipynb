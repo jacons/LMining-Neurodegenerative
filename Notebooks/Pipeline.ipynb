{
 "cells": [
  {
   "cell_type": "markdown",
   "source": [],
   "metadata": {
    "collapsed": false
   }
  },
  {
   "cell_type": "code",
   "execution_count": 1,
   "metadata": {
    "collapsed": true,
    "ExecuteTime": {
     "end_time": "2023-05-12T14:13:03.742223800Z",
     "start_time": "2023-05-12T14:13:00.236401400Z"
    }
   },
   "outputs": [
    {
     "ename": "ModuleNotFoundError",
     "evalue": "No module named 'Graph_class'",
     "output_type": "error",
     "traceback": [
      "\u001B[1;31m---------------------------------------------------------------------------\u001B[0m",
      "\u001B[1;31mModuleNotFoundError\u001B[0m                       Traceback (most recent call last)",
      "Cell \u001B[1;32mIn[1], line 5\u001B[0m\n\u001B[0;32m      3\u001B[0m \u001B[38;5;28;01mfrom\u001B[39;00m \u001B[38;5;21;01mUtils\u001B[39;00m\u001B[38;5;21;01m.\u001B[39;00m\u001B[38;5;21;01mData_retrieval\u001B[39;00m \u001B[38;5;28;01mimport\u001B[39;00m load_dataset\n\u001B[0;32m      4\u001B[0m \u001B[38;5;28;01mfrom\u001B[39;00m \u001B[38;5;21;01mUtils\u001B[39;00m\u001B[38;5;21;01m.\u001B[39;00m\u001B[38;5;21;01mUtils\u001B[39;00m \u001B[38;5;28;01mimport\u001B[39;00m normalize_meshId\n\u001B[1;32m----> 5\u001B[0m \u001B[38;5;28;01mfrom\u001B[39;00m \u001B[38;5;21;01mUtils\u001B[39;00m\u001B[38;5;21;01m.\u001B[39;00m\u001B[38;5;21;01mNodeRank\u001B[39;00m \u001B[38;5;28;01mimport\u001B[39;00m GraphRanker\n\u001B[0;32m      6\u001B[0m \u001B[38;5;28;01mfrom\u001B[39;00m \u001B[38;5;21;01mMetrics\u001B[39;00m\u001B[38;5;21;01m.\u001B[39;00m\u001B[38;5;21;01mCoccurrences_class\u001B[39;00m \u001B[38;5;28;01mimport\u001B[39;00m Co_occurrencesGraph\n",
      "File \u001B[1;32mK:\\NoSyncProject\\LMining-Neurodegenerative\\Utils\\NodeRank.py:3\u001B[0m\n\u001B[0;32m      1\u001B[0m \u001B[38;5;28;01mimport\u001B[39;00m \u001B[38;5;21;01mnumpy\u001B[39;00m \u001B[38;5;28;01mas\u001B[39;00m \u001B[38;5;21;01mnp\u001B[39;00m\n\u001B[1;32m----> 3\u001B[0m \u001B[38;5;28;01mfrom\u001B[39;00m \u001B[38;5;21;01mGraph_class\u001B[39;00m \u001B[38;5;28;01mimport\u001B[39;00m Graph\n\u001B[0;32m      6\u001B[0m \u001B[38;5;28;01mclass\u001B[39;00m \u001B[38;5;21;01mGraphRanker\u001B[39;00m:\n\u001B[0;32m      8\u001B[0m     \u001B[38;5;28;01mdef\u001B[39;00m \u001B[38;5;21m__init__\u001B[39m(\u001B[38;5;28mself\u001B[39m, graph: Graph):\n",
      "\u001B[1;31mModuleNotFoundError\u001B[0m: No module named 'Graph_class'"
     ]
    }
   ],
   "source": [
    "import pandas as pd\n",
    "\n",
    "from Utils.Data_retrieval import load_dataset\n",
    "from Utils.Utils import normalize_meshId\n",
    "from Utils.NodeRank import GraphRanker\n",
    "from Metrics.Coccurrences_class import Co_occurrencesGraph\n"
   ]
  },
  {
   "cell_type": "markdown",
   "source": [
    "# Phase 1: Retrieving relevant documents"
   ],
   "metadata": {
    "collapsed": false
   }
  },
  {
   "cell_type": "code",
   "execution_count": null,
   "outputs": [],
   "source": [
    "df_texts, df_entities = load_dataset()"
   ],
   "metadata": {
    "collapsed": false
   }
  },
  {
   "cell_type": "markdown",
   "source": [
    "### df_texts\n",
    "\n",
    "Contains pubmed documents represented in 2 columns:\n",
    "- pmid: pubmed document id.\n",
    "- text: text of the document (or only the abstract)."
   ],
   "metadata": {
    "collapsed": false
   }
  },
  {
   "cell_type": "code",
   "execution_count": null,
   "outputs": [],
   "source": [
    "df_texts.head()"
   ],
   "metadata": {
    "collapsed": false
   }
  },
  {
   "cell_type": "markdown",
   "source": [
    "### df_entities\n",
    "Contains pubmed documents entities represented in 8 columns:\n",
    "- id: entity id.\n",
    "- pmid: pubmed document id.\n",
    "- mention: mention of entity inside the text.\n",
    "- obj: tag assigned to the entity.\n",
    "- prob: probability of tag assignment.\n",
    "- span_begin: index of first character in the entity inside the document.\n",
    "- span_end: index of the last character in the entity inside the document."
   ],
   "metadata": {
    "collapsed": false
   }
  },
  {
   "cell_type": "code",
   "execution_count": null,
   "outputs": [],
   "source": [
    "df_entities.head()"
   ],
   "metadata": {
    "collapsed": false
   }
  },
  {
   "cell_type": "markdown",
   "source": [],
   "metadata": {
    "collapsed": false
   }
  },
  {
   "cell_type": "code",
   "execution_count": null,
   "outputs": [],
   "source": [
    "df_entities['obj'].value_counts()"
   ],
   "metadata": {
    "collapsed": false
   }
  },
  {
   "cell_type": "markdown",
   "source": [
    "## Test set creation\n",
    "\n",
    "To test the knowledge graph is used the SCMFDD dataset, there are three kinds of files: diseases, drugs and diseases-drugs associations.\n",
    "\n",
    "The dataframe `diseases-drug` associations contains:\n",
    "- drug_id: id of drug\n",
    "- drug_name: plain name of drug\n",
    "- disease_id: id of disease\n",
    "- disease_name: plain name of disease"
   ],
   "metadata": {
    "collapsed": false
   }
  },
  {
   "cell_type": "code",
   "execution_count": null,
   "outputs": [],
   "source": [
    "SCMFF_DIR = 'dataset/SCMFDD/SCMFDD-L/'\n",
    "\n",
    "scmff_dda = pd.read_csv(f'{SCMFF_DIR}drug-disease association.csv')\n",
    "scmff_drugs = pd.read_csv(f'{SCMFF_DIR}drug.csv')\n",
    "scmff_diseases = pd.read_csv(f'{SCMFF_DIR}disease.csv')\n",
    "\n",
    "scmff_dda"
   ],
   "metadata": {
    "collapsed": false
   }
  },
  {
   "cell_type": "markdown",
   "source": [
    "# Phase 2: Apply preprocessing\n",
    "\n",
    "We delete rows in 'df_entities' if the probability is null or smaller than 0.8."
   ],
   "metadata": {
    "collapsed": false
   }
  },
  {
   "cell_type": "code",
   "execution_count": null,
   "outputs": [],
   "source": [
    "df_entities = df_entities[~df_entities['prob'].isna()]\n",
    "df_entities = df_entities[df_entities['prob'] > 0.8]\n",
    "df_entities = df_entities[['id', 'pmid', 'mention', 'obj', 'span_begin', 'span_end']]\n",
    "\n",
    "df_entities.head()"
   ],
   "metadata": {
    "collapsed": false
   }
  },
  {
   "cell_type": "markdown",
   "source": [
    "Add column `source` that is `true` for each disease of `df_entities` that is also inside the test set."
   ],
   "metadata": {
    "collapsed": false
   }
  },
  {
   "cell_type": "code",
   "execution_count": null,
   "outputs": [],
   "source": [
    "scmff_diseases_labels = scmff_diseases['disease_id'].unique()\n",
    "union_diseases = list(filter(lambda x: normalize_meshId(x) in scmff_diseases_labels,\n",
    "                             df_entities[df_entities['obj'] == 'disease']['id'].unique()))\n",
    "\n",
    "df_entities['source'] = (df_entities['obj'] == 'disease') & (df_entities['id'].isin(union_diseases))\n",
    "\n",
    "sum(df_entities['source'])"
   ],
   "metadata": {
    "collapsed": false
   }
  },
  {
   "cell_type": "code",
   "execution_count": null,
   "outputs": [],
   "source": [
    "scmff_dda['drug_id'] = scmff_dda['drug_id'].apply(normalize_meshId)\n",
    "scmff_dda['disease_id'] = scmff_dda['disease_id'].apply(normalize_meshId)\n",
    "\n",
    "\n",
    "normalized_union_diseases = map(normalize_meshId, union_diseases)\n",
    "scmff_dda = scmff_dda[scmff_dda['disease_id'].isin(normalized_union_diseases)]"
   ],
   "metadata": {
    "collapsed": false
   }
  },
  {
   "cell_type": "code",
   "execution_count": null,
   "outputs": [],
   "source": [
    "test_set = {\n",
    "    (\n",
    "        v['drug_id'],\n",
    "        v['disease_id']\n",
    "    ): True for v in scmff_dda[['drug_id', 'disease_id']].to_dict(orient='records')\n",
    "}"
   ],
   "metadata": {
    "collapsed": false
   }
  },
  {
   "cell_type": "code",
   "execution_count": null,
   "outputs": [],
   "source": [
    "df_entities.head()"
   ],
   "metadata": {
    "collapsed": false
   }
  },
  {
   "cell_type": "markdown",
   "source": [],
   "metadata": {
    "collapsed": false
   }
  },
  {
   "cell_type": "code",
   "execution_count": null,
   "outputs": [],
   "source": [
    "occurrences_k_graph = Co_occurrencesGraph(df_entities)\n",
    "occurrences_k_graph.populate_adj_matrix(k=20)"
   ],
   "metadata": {
    "collapsed": false
   }
  },
  {
   "cell_type": "code",
   "execution_count": null,
   "outputs": [],
   "source": [
    "occurrences_k_graph.statistics()"
   ],
   "metadata": {
    "collapsed": false
   }
  },
  {
   "cell_type": "code",
   "execution_count": null,
   "outputs": [],
   "source": [
    "occurrences_k_graph.draw_example()"
   ],
   "metadata": {
    "collapsed": false
   }
  },
  {
   "cell_type": "markdown",
   "source": [
    "# Phase 4.1: Ranking"
   ],
   "metadata": {
    "collapsed": false
   }
  },
  {
   "cell_type": "code",
   "execution_count": null,
   "outputs": [],
   "source": [
    "\n",
    "occur_graph_ranker = GraphRanker(occurrences_k_graph)"
   ],
   "metadata": {
    "collapsed": false
   }
  },
  {
   "cell_type": "markdown",
   "source": [
    "Top 10 Nodes"
   ],
   "metadata": {
    "collapsed": false
   }
  },
  {
   "cell_type": "code",
   "execution_count": null,
   "outputs": [],
   "source": [
    "occur_graph_ranker.print_nodes_rank(max_=10)"
   ],
   "metadata": {
    "collapsed": false
   }
  },
  {
   "cell_type": "markdown",
   "source": [
    "Top 10 Edges"
   ],
   "metadata": {
    "collapsed": false
   }
  },
  {
   "cell_type": "code",
   "execution_count": null,
   "outputs": [],
   "source": [
    "occur_graph_ranker.print_edges_rank(max_=10)"
   ],
   "metadata": {
    "collapsed": false
   }
  }
 ],
 "metadata": {
  "kernelspec": {
   "display_name": "Python 3",
   "language": "python",
   "name": "python3"
  },
  "language_info": {
   "codemirror_mode": {
    "name": "ipython",
    "version": 2
   },
   "file_extension": ".py",
   "mimetype": "text/x-python",
   "name": "python",
   "nbconvert_exporter": "python",
   "pygments_lexer": "ipython2",
   "version": "2.7.6"
  }
 },
 "nbformat": 4,
 "nbformat_minor": 0
}
