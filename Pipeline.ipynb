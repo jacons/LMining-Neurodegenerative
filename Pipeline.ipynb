{
 "cells": [
  {
   "cell_type": "markdown",
   "source": [],
   "metadata": {
    "collapsed": false
   }
  },
  {
   "cell_type": "code",
   "execution_count": 1,
   "metadata": {
    "collapsed": true,
    "ExecuteTime": {
     "end_time": "2023-05-12T15:16:03.308796800Z",
     "start_time": "2023-05-12T15:16:00.898411100Z"
    }
   },
   "outputs": [
    {
     "name": "stderr",
     "output_type": "stream",
     "text": [
      "[nltk_data] Downloading package punkt to\n",
      "[nltk_data]     C:\\Users\\Andrea\\AppData\\Roaming\\nltk_data...\n",
      "[nltk_data]   Package punkt is already up-to-date!\n",
      "[nltk_data] Downloading package stopwords to\n",
      "[nltk_data]     C:\\Users\\Andrea\\AppData\\Roaming\\nltk_data...\n",
      "[nltk_data]   Package stopwords is already up-to-date!\n"
     ]
    }
   ],
   "source": [
    "from Data_retrieval import load_dataset\n",
    "from NodeRank import GraphRanker\n",
    "from Metrics.Coccurrences_class import Co_occurrencesGraph\n",
    "from Metrics.Word2Vec_class import Word2VecGraph\n",
    "from Utils import preprocess_text\n",
    "\n",
    "from tqdm.notebook import tqdm\n",
    "tqdm.pandas()"
   ]
  },
  {
   "cell_type": "markdown",
   "source": [
    "# Phase 1: Retrieving relevant documents"
   ],
   "metadata": {
    "collapsed": false
   }
  },
  {
   "cell_type": "code",
   "execution_count": 2,
   "outputs": [],
   "source": [
    "df_texts, df_entities = load_dataset()"
   ],
   "metadata": {
    "collapsed": false,
    "ExecuteTime": {
     "end_time": "2023-05-12T15:16:05.389453Z",
     "start_time": "2023-05-12T15:16:03.300798900Z"
    }
   }
  },
  {
   "cell_type": "markdown",
   "source": [
    "### df_texts\n",
    "\n",
    "Contains pubmed documents represented in 2 columns:\n",
    "- pmid: pubmed document id.\n",
    "- text: text of the document (or only the abstract)."
   ],
   "metadata": {
    "collapsed": false
   }
  },
  {
   "cell_type": "code",
   "execution_count": 3,
   "outputs": [
    {
     "data": {
      "text/plain": "       pmid                                               text\n0  37067723  CSF-based liquid biopsy pointing to a diagnosi...\n1  37067721  Parkinson&#x27;s Disease and Diabetes Mellitus...\n2  37067687  SIRT4 in ageing. Ageing is a phenomenon in whi...\n3  37067567  In silico analysis of the possible crosstalk b...\n4  37067031  Biological brain age prediction using machine ...",
      "text/html": "<div>\n<style scoped>\n    .dataframe tbody tr th:only-of-type {\n        vertical-align: middle;\n    }\n\n    .dataframe tbody tr th {\n        vertical-align: top;\n    }\n\n    .dataframe thead th {\n        text-align: right;\n    }\n</style>\n<table border=\"1\" class=\"dataframe\">\n  <thead>\n    <tr style=\"text-align: right;\">\n      <th></th>\n      <th>pmid</th>\n      <th>text</th>\n    </tr>\n  </thead>\n  <tbody>\n    <tr>\n      <th>0</th>\n      <td>37067723</td>\n      <td>CSF-based liquid biopsy pointing to a diagnosi...</td>\n    </tr>\n    <tr>\n      <th>1</th>\n      <td>37067721</td>\n      <td>Parkinson&amp;#x27;s Disease and Diabetes Mellitus...</td>\n    </tr>\n    <tr>\n      <th>2</th>\n      <td>37067687</td>\n      <td>SIRT4 in ageing. Ageing is a phenomenon in whi...</td>\n    </tr>\n    <tr>\n      <th>3</th>\n      <td>37067567</td>\n      <td>In silico analysis of the possible crosstalk b...</td>\n    </tr>\n    <tr>\n      <th>4</th>\n      <td>37067031</td>\n      <td>Biological brain age prediction using machine ...</td>\n    </tr>\n  </tbody>\n</table>\n</div>"
     },
     "execution_count": 3,
     "metadata": {},
     "output_type": "execute_result"
    }
   ],
   "source": [
    "df_texts.head()"
   ],
   "metadata": {
    "collapsed": false,
    "ExecuteTime": {
     "end_time": "2023-05-12T15:16:05.401442100Z",
     "start_time": "2023-05-12T15:16:05.393422200Z"
    }
   }
  },
  {
   "cell_type": "markdown",
   "source": [
    "### df_entities\n",
    "Contains pubmed documents entities represented in 8 columns:\n",
    "- id: entity id.\n",
    "- pmid: pubmed document id.\n",
    "- mention: mention of entity inside the text.\n",
    "- obj: tag assigned to the entity.\n",
    "- prob: probability of tag assignment.\n",
    "- span_begin: index of first character in the entity inside the document.\n",
    "- span_end: index of the last character in the entity inside the document."
   ],
   "metadata": {
    "collapsed": false
   }
  },
  {
   "cell_type": "code",
   "execution_count": 4,
   "outputs": [
    {
     "data": {
      "text/plain": "               id      pmid         mention      obj      prob  span_begin   \n0    mesh:D005910  37067723  diffuse glioma  disease  0.999984          51  \\\n1  NCBITaxon:9606  37067723         patient  species  0.974101          71   \n2    mesh:D001927  37067723  brain diseases  disease  0.999919         123   \n3  NCBITaxon:9606  37067723         patient  species  0.981700         271   \n4  NCBITaxon:9606  37067723         patient  species  0.938698         300   \n\n   span_end  \n0        65  \n1        78  \n2       137  \n3       278  \n4       307  ",
      "text/html": "<div>\n<style scoped>\n    .dataframe tbody tr th:only-of-type {\n        vertical-align: middle;\n    }\n\n    .dataframe tbody tr th {\n        vertical-align: top;\n    }\n\n    .dataframe thead th {\n        text-align: right;\n    }\n</style>\n<table border=\"1\" class=\"dataframe\">\n  <thead>\n    <tr style=\"text-align: right;\">\n      <th></th>\n      <th>id</th>\n      <th>pmid</th>\n      <th>mention</th>\n      <th>obj</th>\n      <th>prob</th>\n      <th>span_begin</th>\n      <th>span_end</th>\n    </tr>\n  </thead>\n  <tbody>\n    <tr>\n      <th>0</th>\n      <td>mesh:D005910</td>\n      <td>37067723</td>\n      <td>diffuse glioma</td>\n      <td>disease</td>\n      <td>0.999984</td>\n      <td>51</td>\n      <td>65</td>\n    </tr>\n    <tr>\n      <th>1</th>\n      <td>NCBITaxon:9606</td>\n      <td>37067723</td>\n      <td>patient</td>\n      <td>species</td>\n      <td>0.974101</td>\n      <td>71</td>\n      <td>78</td>\n    </tr>\n    <tr>\n      <th>2</th>\n      <td>mesh:D001927</td>\n      <td>37067723</td>\n      <td>brain diseases</td>\n      <td>disease</td>\n      <td>0.999919</td>\n      <td>123</td>\n      <td>137</td>\n    </tr>\n    <tr>\n      <th>3</th>\n      <td>NCBITaxon:9606</td>\n      <td>37067723</td>\n      <td>patient</td>\n      <td>species</td>\n      <td>0.981700</td>\n      <td>271</td>\n      <td>278</td>\n    </tr>\n    <tr>\n      <th>4</th>\n      <td>NCBITaxon:9606</td>\n      <td>37067723</td>\n      <td>patient</td>\n      <td>species</td>\n      <td>0.938698</td>\n      <td>300</td>\n      <td>307</td>\n    </tr>\n  </tbody>\n</table>\n</div>"
     },
     "execution_count": 4,
     "metadata": {},
     "output_type": "execute_result"
    }
   ],
   "source": [
    "df_entities.head()"
   ],
   "metadata": {
    "collapsed": false,
    "ExecuteTime": {
     "end_time": "2023-05-12T15:16:05.437455600Z",
     "start_time": "2023-05-12T15:16:05.409445800Z"
    }
   }
  },
  {
   "cell_type": "markdown",
   "source": [],
   "metadata": {
    "collapsed": false
   }
  },
  {
   "cell_type": "code",
   "execution_count": 5,
   "outputs": [
    {
     "data": {
      "text/plain": "obj\ndisease      95413\ngene         57937\ndrug         32154\nspecies      25136\ncell_type    17075\nDNA           9994\ncell_line     5589\nRNA           4058\nmutation      1313\nName: count, dtype: int64"
     },
     "execution_count": 5,
     "metadata": {},
     "output_type": "execute_result"
    }
   ],
   "source": [
    "df_entities['obj'].value_counts()"
   ],
   "metadata": {
    "collapsed": false,
    "ExecuteTime": {
     "end_time": "2023-05-12T15:16:05.585554Z",
     "start_time": "2023-05-12T15:16:05.453449700Z"
    }
   }
  },
  {
   "cell_type": "markdown",
   "source": [
    "# Phase 2: Apply preprocessing\n",
    "\n",
    "We delete rows in 'df_entities' if the probability is null or smaller than 0.8."
   ],
   "metadata": {
    "collapsed": false
   }
  },
  {
   "cell_type": "code",
   "execution_count": 6,
   "outputs": [
    {
     "data": {
      "text/plain": "               id      pmid         mention      obj  span_begin  span_end\n0    mesh:D005910  37067723  diffuse glioma  disease          51        65\n1  NCBITaxon:9606  37067723         patient  species          71        78\n2    mesh:D001927  37067723  brain diseases  disease         123       137\n3  NCBITaxon:9606  37067723         patient  species         271       278\n4  NCBITaxon:9606  37067723         patient  species         300       307",
      "text/html": "<div>\n<style scoped>\n    .dataframe tbody tr th:only-of-type {\n        vertical-align: middle;\n    }\n\n    .dataframe tbody tr th {\n        vertical-align: top;\n    }\n\n    .dataframe thead th {\n        text-align: right;\n    }\n</style>\n<table border=\"1\" class=\"dataframe\">\n  <thead>\n    <tr style=\"text-align: right;\">\n      <th></th>\n      <th>id</th>\n      <th>pmid</th>\n      <th>mention</th>\n      <th>obj</th>\n      <th>span_begin</th>\n      <th>span_end</th>\n    </tr>\n  </thead>\n  <tbody>\n    <tr>\n      <th>0</th>\n      <td>mesh:D005910</td>\n      <td>37067723</td>\n      <td>diffuse glioma</td>\n      <td>disease</td>\n      <td>51</td>\n      <td>65</td>\n    </tr>\n    <tr>\n      <th>1</th>\n      <td>NCBITaxon:9606</td>\n      <td>37067723</td>\n      <td>patient</td>\n      <td>species</td>\n      <td>71</td>\n      <td>78</td>\n    </tr>\n    <tr>\n      <th>2</th>\n      <td>mesh:D001927</td>\n      <td>37067723</td>\n      <td>brain diseases</td>\n      <td>disease</td>\n      <td>123</td>\n      <td>137</td>\n    </tr>\n    <tr>\n      <th>3</th>\n      <td>NCBITaxon:9606</td>\n      <td>37067723</td>\n      <td>patient</td>\n      <td>species</td>\n      <td>271</td>\n      <td>278</td>\n    </tr>\n    <tr>\n      <th>4</th>\n      <td>NCBITaxon:9606</td>\n      <td>37067723</td>\n      <td>patient</td>\n      <td>species</td>\n      <td>300</td>\n      <td>307</td>\n    </tr>\n  </tbody>\n</table>\n</div>"
     },
     "execution_count": 6,
     "metadata": {},
     "output_type": "execute_result"
    }
   ],
   "source": [
    "df_entities = df_entities[~df_entities['prob'].isna()]\n",
    "df_entities = df_entities[df_entities['prob'] > 0.8]\n",
    "df_entities = df_entities[['id', 'pmid', 'mention', 'obj', 'span_begin', 'span_end']]\n",
    "\n",
    "df_entities.head()"
   ],
   "metadata": {
    "collapsed": false,
    "ExecuteTime": {
     "end_time": "2023-05-12T15:16:05.637561Z",
     "start_time": "2023-05-12T15:16:05.465439600Z"
    }
   }
  },
  {
   "cell_type": "code",
   "execution_count": 7,
   "outputs": [
    {
     "data": {
      "text/plain": "               id      pmid         mention      obj  span_begin  span_end\n0    mesh:D005910  37067723  diffuse glioma  disease          51        65\n1  NCBITaxon:9606  37067723         patient  species          71        78\n2    mesh:D001927  37067723  brain diseases  disease         123       137\n3  NCBITaxon:9606  37067723         patient  species         271       278\n4  NCBITaxon:9606  37067723         patient  species         300       307",
      "text/html": "<div>\n<style scoped>\n    .dataframe tbody tr th:only-of-type {\n        vertical-align: middle;\n    }\n\n    .dataframe tbody tr th {\n        vertical-align: top;\n    }\n\n    .dataframe thead th {\n        text-align: right;\n    }\n</style>\n<table border=\"1\" class=\"dataframe\">\n  <thead>\n    <tr style=\"text-align: right;\">\n      <th></th>\n      <th>id</th>\n      <th>pmid</th>\n      <th>mention</th>\n      <th>obj</th>\n      <th>span_begin</th>\n      <th>span_end</th>\n    </tr>\n  </thead>\n  <tbody>\n    <tr>\n      <th>0</th>\n      <td>mesh:D005910</td>\n      <td>37067723</td>\n      <td>diffuse glioma</td>\n      <td>disease</td>\n      <td>51</td>\n      <td>65</td>\n    </tr>\n    <tr>\n      <th>1</th>\n      <td>NCBITaxon:9606</td>\n      <td>37067723</td>\n      <td>patient</td>\n      <td>species</td>\n      <td>71</td>\n      <td>78</td>\n    </tr>\n    <tr>\n      <th>2</th>\n      <td>mesh:D001927</td>\n      <td>37067723</td>\n      <td>brain diseases</td>\n      <td>disease</td>\n      <td>123</td>\n      <td>137</td>\n    </tr>\n    <tr>\n      <th>3</th>\n      <td>NCBITaxon:9606</td>\n      <td>37067723</td>\n      <td>patient</td>\n      <td>species</td>\n      <td>271</td>\n      <td>278</td>\n    </tr>\n    <tr>\n      <th>4</th>\n      <td>NCBITaxon:9606</td>\n      <td>37067723</td>\n      <td>patient</td>\n      <td>species</td>\n      <td>300</td>\n      <td>307</td>\n    </tr>\n  </tbody>\n</table>\n</div>"
     },
     "execution_count": 7,
     "metadata": {},
     "output_type": "execute_result"
    }
   ],
   "source": [
    "df_entities.head()"
   ],
   "metadata": {
    "collapsed": false,
    "ExecuteTime": {
     "end_time": "2023-05-12T15:16:05.637561Z",
     "start_time": "2023-05-12T15:16:05.577322400Z"
    }
   }
  },
  {
   "cell_type": "markdown",
   "source": [],
   "metadata": {
    "collapsed": false
   }
  },
  {
   "cell_type": "code",
   "execution_count": 8,
   "outputs": [
    {
     "name": "stderr",
     "output_type": "stream",
     "text": [
      "Co_occurrencesGraph populate_adj_matrix: 100%|██████████| 9898/9898 [01:24<00:00, 116.66it/s]\n"
     ]
    }
   ],
   "source": [
    "occurrences_k_graph = Co_occurrencesGraph(df_entities)\n",
    "occurrences_k_graph.populate_adj_matrix(k=20)"
   ],
   "metadata": {
    "collapsed": false,
    "ExecuteTime": {
     "end_time": "2023-05-12T15:17:37.636482700Z",
     "start_time": "2023-05-12T15:16:05.589555700Z"
    }
   }
  },
  {
   "cell_type": "code",
   "execution_count": 9,
   "outputs": [
    {
     "name": "stdout",
     "output_type": "stream",
     "text": [
      "Max co-occurrences:  1108.0\n",
      "Mean co-occurrences:  0.0009417776260310976\n",
      "Std of co-occurrences:  0.21761708666603083\n"
     ]
    },
    {
     "data": {
      "text/plain": "<Figure size 640x480 with 2 Axes>",
      "image/png": "[encoded data removed]"
     },
     "metadata": {},
     "output_type": "display_data"
    }
   ],
   "source": [
    "occurrences_k_graph.statistics()"
   ],
   "metadata": {
    "collapsed": false,
    "ExecuteTime": {
     "end_time": "2023-05-12T15:17:39.922255Z",
     "start_time": "2023-05-12T15:17:37.636482700Z"
    }
   }
  },
  {
   "cell_type": "code",
   "execution_count": 10,
   "outputs": [
    {
     "data": {
      "text/plain": "<Figure size 640x480 with 1 Axes>",
      "image/png": "[encoded data removed]"
     },
     "metadata": {},
     "output_type": "display_data"
    }
   ],
   "source": [
    "occurrences_k_graph.draw_example()"
   ],
   "metadata": {
    "collapsed": false,
    "ExecuteTime": {
     "end_time": "2023-05-12T15:17:40.154013300Z",
     "start_time": "2023-05-12T15:17:39.922255Z"
    }
   }
  },
  {
   "cell_type": "markdown",
   "source": [
    "# Phase 4.1: Ranking"
   ],
   "metadata": {
    "collapsed": false
   }
  },
  {
   "cell_type": "code",
   "execution_count": 11,
   "outputs": [],
   "source": [
    "occur_graph_ranker = GraphRanker(occurrences_k_graph)"
   ],
   "metadata": {
    "collapsed": false,
    "ExecuteTime": {
     "end_time": "2023-05-12T15:17:40.169628100Z",
     "start_time": "2023-05-12T15:17:40.154013300Z"
    }
   }
  },
  {
   "cell_type": "markdown",
   "source": [
    "Top 10 Nodes"
   ],
   "metadata": {
    "collapsed": false
   }
  },
  {
   "cell_type": "code",
   "execution_count": 12,
   "outputs": [
    {
     "name": "stdout",
     "output_type": "stream",
     "text": [
      "SCORE\tNAME (ID)\n",
      "0.09%\tneurodegenerative diseases (mesh:D019636)\n",
      "0.08%\tAD (mesh:D000544)\n",
      "0.06%\tParkinson&#x27;s disease (mesh:C564486)\n",
      "0.05%\tpatients (NCBITaxon:9606)\n",
      "0.04%\tPD (mim:168600)\n",
      "0.03%\tALS (mesh:D000690)\n",
      "0.02%\tA. alopecuroides (CUI-less)\n",
      "0.02%\tdementia (mesh:D003704)\n",
      "0.02%\tsolid tumors (mesh:D009369)\n",
      "0.01%\tcognitive disorders (mesh:D003072)\n"
     ]
    }
   ],
   "source": [
    "occur_graph_ranker.print_nodes_rank(max_=10)"
   ],
   "metadata": {
    "collapsed": false,
    "ExecuteTime": {
     "end_time": "2023-05-12T15:17:42.373046500Z",
     "start_time": "2023-05-12T15:17:40.169628100Z"
    }
   }
  },
  {
   "cell_type": "markdown",
   "source": [
    "Top 10 Edges"
   ],
   "metadata": {
    "collapsed": false
   }
  },
  {
   "cell_type": "code",
   "execution_count": 13,
   "outputs": [
    {
     "name": "stdout",
     "output_type": "stream",
     "text": [
      "SCORE\tRELATION\n",
      "1.46%\tAD <=> neurodegenerative diseases\n",
      "1.01%\tPD <=> Parkinson&#x27;s disease\n",
      "0.67%\tAD <=> Parkinson&#x27;s disease\n",
      "0.46%\tA. alopecuroides <=> patients\n",
      "0.4%\tsolid tumors <=> neurodegenerative diseases\n",
      "0.38%\tALS <=> neurodegenerative diseases\n",
      "0.37%\tneurodegenerative diseases <=> patients\n",
      "0.37%\tneurodegenerative diseases <=> Parkinson&#x27;s disease\n",
      "0.36%\tPD <=> Parkinson&#\n",
      "0.34%\tAD <=> patients\n"
     ]
    }
   ],
   "source": [
    "occur_graph_ranker.print_edges_rank(max_=10)"
   ],
   "metadata": {
    "collapsed": false,
    "ExecuteTime": {
     "end_time": "2023-05-12T15:17:55.305150800Z",
     "start_time": "2023-05-12T15:17:42.373046500Z"
    }
   }
  },
  {
   "cell_type": "markdown",
   "source": [
    "# Variant: Word2Vec"
   ],
   "metadata": {
    "collapsed": false
   }
  },
  {
   "cell_type": "code",
   "execution_count": 14,
   "outputs": [
    {
     "data": {
      "text/plain": "[('mesh:D005910', 'unique_0'),\n ('NCBITaxon:9606', 'unique_1'),\n ('mesh:D001927', 'unique_2'),\n ('mesh:D000647', 'unique_3'),\n ('mesh:D003072', 'unique_4'),\n ('CHEBI:31617', 'unique_5'),\n ('mesh:D056784', 'unique_6'),\n ('mesh:D003704', 'unique_7'),\n ('CUI-less', 'unique_8'),\n ('NCBIGene:7157', 'unique_9')]"
     },
     "execution_count": 14,
     "metadata": {},
     "output_type": "execute_result"
    }
   ],
   "source": [
    "id_to_wuid = {id: f'unique_{i}' for i, id in enumerate(df_entities['id'].unique())}\n",
    "\n",
    "list(id_to_wuid.items())[:10]"
   ],
   "metadata": {
    "collapsed": false,
    "ExecuteTime": {
     "end_time": "2023-05-12T15:17:55.642103200Z",
     "start_time": "2023-05-12T15:17:55.327409800Z"
    }
   }
  },
  {
   "cell_type": "code",
   "execution_count": null,
   "outputs": [
    {
     "data": {
      "text/plain": "  0%|          | 0/9996 [00:00<?, ?it/s]",
      "application/vnd.jupyter.widget-view+json": {
       "version_major": 2,
       "version_minor": 0,
       "model_id": "642c778bcbb249b893399e7e8c645fdc"
      }
     },
     "metadata": {},
     "output_type": "display_data"
    }
   ],
   "source": [
    "texts = df_texts.progress_apply(preprocess_text(df_entities,id_to_wuid), axis=1).tolist()"
   ],
   "metadata": {
    "collapsed": false,
    "is_executing": true,
    "ExecuteTime": {
     "start_time": "2023-05-12T15:17:55.642103200Z"
    }
   }
  },
  {
   "cell_type": "code",
   "execution_count": null,
   "outputs": [],
   "source": [
    "w2v_graph = Word2VecGraph(df_entities, texts)\n",
    "w2v_graph.populate_adj_matrix(\n",
    "    min_count=2,\n",
    "    vector_size=100,\n",
    "    window=10,\n",
    "    sg=True,\n",
    "    learning_rate=0.1,\n",
    "    epochs=50,\n",
    ")"
   ],
   "metadata": {
    "collapsed": false,
    "is_executing": true
   }
  },
  {
   "cell_type": "code",
   "execution_count": null,
   "outputs": [],
   "source": [
    "w2v_graph.statistics()"
   ],
   "metadata": {
    "collapsed": false,
    "is_executing": true
   }
  },
  {
   "cell_type": "code",
   "execution_count": null,
   "outputs": [],
   "source": [
    "w2v_graph.draw_example()"
   ],
   "metadata": {
    "collapsed": false,
    "is_executing": true
   }
  },
  {
   "cell_type": "code",
   "execution_count": null,
   "outputs": [],
   "source": [
    "w2v_graph_ranker = GraphRanker(w2v_graph)"
   ],
   "metadata": {
    "collapsed": false,
    "is_executing": true
   }
  },
  {
   "cell_type": "markdown",
   "source": [
    "Top nodes"
   ],
   "metadata": {
    "collapsed": false
   }
  },
  {
   "cell_type": "code",
   "execution_count": null,
   "outputs": [],
   "source": [
    "w2v_graph_ranker.print_nodes_rank(max=10)"
   ],
   "metadata": {
    "collapsed": false,
    "is_executing": true
   }
  },
  {
   "cell_type": "markdown",
   "source": [
    "Top edges"
   ],
   "metadata": {
    "collapsed": false
   }
  },
  {
   "cell_type": "code",
   "execution_count": null,
   "outputs": [],
   "source": [
    "w2v_graph_ranker.print_edges_rank(max=10)"
   ],
   "metadata": {
    "collapsed": false,
    "is_executing": true
   }
  }
 ],
 "metadata": {
  "kernelspec": {
   "display_name": "Python 3",
   "language": "python",
   "name": "python3"
  },
  "language_info": {
   "codemirror_mode": {
    "name": "ipython",
    "version": 2
   },
   "file_extension": ".py",
   "mimetype": "text/x-python",
   "name": "python",
   "nbconvert_exporter": "python",
   "pygments_lexer": "ipython2",
   "version": "2.7.6"
  }
 },
 "nbformat": 4,
 "nbformat_minor": 0
}
